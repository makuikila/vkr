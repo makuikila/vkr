{
 "cells": [
  {
   "cell_type": "markdown",
   "id": "224c26ea-dde7-4c9b-80dc-9950e8b2a0c5",
   "metadata": {},
   "source": [
    "# -*- coding: utf-8 -*-"
   ]
  },
  {
   "cell_type": "code",
   "execution_count": 2,
   "id": "72fd8b86-d602-43f1-997b-0f84b663ee66",
   "metadata": {},
   "outputs": [],
   "source": [
    "import pandas as pd\n",
    "import numpy as np\n",
    "import matplotlib.pyplot as plt\n",
    "import seaborn as sns\n",
    "import plotly.express as px\n",
    "from datetime import datetime, timedelta\n",
    "from scipy.integrate import odeint\n",
    "from sklearn.preprocessing import StandardScaler\n",
    "import ipywidgets as widgets\n",
    "from IPython.display import display\n",
    "import json\n",
    "import os"
   ]
  },
  {
   "cell_type": "markdown",
   "id": "979f4947-2511-461f-bbb6-c0838a4b50bd",
   "metadata": {},
   "source": [
    "# Для ARIMA"
   ]
  },
  {
   "cell_type": "code",
   "execution_count": 5,
   "id": "d3374178-abd2-415c-b992-9b7686d1b383",
   "metadata": {},
   "outputs": [],
   "source": [
    "from statsmodels.tsa.arima.model import ARIMA"
   ]
  },
  {
   "cell_type": "markdown",
   "id": "a997b2d0-1520-411e-ac8a-912c48e30952",
   "metadata": {},
   "source": [
    "# ---------------------------\n",
    "# НАСТРОЙКА\n",
    "# ---------------------------"
   ]
  },
  {
   "cell_type": "code",
   "execution_count": 8,
   "id": "32749d3c-6ba2-43d6-8fa6-db344956b108",
   "metadata": {},
   "outputs": [],
   "source": [
    "sns.set(style=\"whitegrid\")\n",
    "pd.options.mode.chained_assignment = None  # Отключаем предупреждения о копировании\n",
    "plt.rcParams['figure.figsize'] = (12, 6)"
   ]
  },
  {
   "cell_type": "markdown",
   "id": "ac048a0d-0fa4-4442-8e93-3bfede19b79b",
   "metadata": {},
   "source": [
    "# ---------------------------\n",
    "# ЗАГРУЗКА И ПРЕДОБРАБОТКА ДАННЫХ\n",
    "# ---------------------------"
   ]
  },
  {
   "cell_type": "code",
   "execution_count": 11,
   "id": "7740a77e-4b40-4ed3-9dbc-b6afd17562f7",
   "metadata": {},
   "outputs": [],
   "source": [
    "# Загрузка набора данных\n",
    "data_final = pd.read_csv(\"dataset_final.csv\", parse_dates=[\"Date\"])"
   ]
  },
  {
   "cell_type": "code",
   "execution_count": 13,
   "id": "93972857-41e4-40f7-983c-d8e40a44fa3d",
   "metadata": {},
   "outputs": [],
   "source": [
    "# Очистка данных\n",
    "cols_numeriques = ['new_cases', 'new_vaccinations', 'people_fully_vaccinated']\n",
    "for col in cols_numeriques:\n",
    "    data_final[col] = pd.to_numeric(data_final[col], errors='coerce').fillna(0)"
   ]
  },
  {
   "cell_type": "code",
   "execution_count": 15,
   "id": "c4d8eb16-9707-4749-9126-f5574b5a5747",
   "metadata": {},
   "outputs": [],
   "source": [
    "# Преобразование категориальных столбцов\n",
    "data_final['ID_Localisation'] = data_final['ID_Localisation'].astype('category')\n",
    "data_final['location'] = data_final['location'].astype('category')\n",
    "data_final['continent'] = data_final['continent'].astype('category')"
   ]
  },
  {
   "cell_type": "code",
   "execution_count": 17,
   "id": "d50f1980-26b7-4262-b76a-b67d866a6b3f",
   "metadata": {},
   "outputs": [],
   "source": [
    "# Сортировка данных по коду страны и дате\n",
    "data_final.sort_values(by=[\"ID_Localisation\", \"Date\"], inplace=True)"
   ]
  },
  {
   "cell_type": "markdown",
   "id": "d75f1dc8-30b4-4e6c-98e8-fe93733503fa",
   "metadata": {},
   "source": [
    "# ---------------------------\n",
    "# ВЫЧИСЛЕНИЕ МЕТРИК\n",
    "# ---------------------------"
   ]
  },
  {
   "cell_type": "code",
   "execution_count": 20,
   "id": "fd2d6343-874c-4109-a386-c8ff3c0f6951",
   "metadata": {},
   "outputs": [
    {
     "name": "stderr",
     "output_type": "stream",
     "text": [
      "C:\\Users\\manas\\AppData\\Local\\Temp\\ipykernel_15772\\4261115101.py:5: FutureWarning: The default of observed=False is deprecated and will be changed to True in a future version of pandas. Pass observed=False to retain current behavior or observed=True to adopt the future default and silence this warning.\n",
      "  grouped = df.groupby('ID_Localisation').agg(\n",
      "C:\\Users\\manas\\AppData\\Local\\Temp\\ipykernel_15772\\4261115101.py:17: FutureWarning: The default of observed=False is deprecated and will be changed to True in a future version of pandas. Pass observed=False to retain current behavior or observed=True to adopt the future default and silence this warning.\n",
      "  taux_croissance = df.groupby('ID_Localisation')['new_cases'].pct_change().groupby(df['ID_Localisation']).mean().reset_index()\n"
     ]
    }
   ],
   "source": [
    "def calcul_metriques(df):\n",
    "    \"\"\"Вычисляет ключевые метрики для данного DataFrame с использованием\n",
    "       населения для расчёта уровня вакцинации.\"\"\"\n",
    "    # Агрегация по странам\n",
    "    grouped = df.groupby('ID_Localisation').agg(\n",
    "        Cas_Total=('new_cases', 'sum'),\n",
    "        Vaccinations_Total=('new_vaccinations', 'sum'),\n",
    "        Dernier_Type_Mesure=('Type_Mesure', 'last'),\n",
    "        Population=('population', 'max'),\n",
    "        Vaccinated=('people_fully_vaccinated', 'max')\n",
    "    ).reset_index()\n",
    "    \n",
    "    # Расчёт максимального уровня вакцинации (в процентах)\n",
    "    grouped['Couverture_Vaccinale_Max'] = (grouped['Vaccinated'] / grouped['Population']) * 100\n",
    "    \n",
    "    # Расчёт среднего темпа роста новых случаев для каждой страны\n",
    "    taux_croissance = df.groupby('ID_Localisation')['new_cases'].pct_change().groupby(df['ID_Localisation']).mean().reset_index()\n",
    "    taux_croissance.columns = ['ID_Localisation', 'Taux_Croissance_Moyen']\n",
    "    \n",
    "    # Объединение результатов\n",
    "    metriques = pd.merge(grouped, taux_croissance, on='ID_Localisation', how='left')\n",
    "    \n",
    "    # Преобразование типов:\n",
    "    # Числовые значения в целые числа и уровень вакцинации округляем до 2 знаков после запятой\n",
    "    metriques['Cas_Total'] = metriques['Cas_Total'].astype(int)\n",
    "    metriques['Vaccinations_Total'] = metriques['Vaccinations_Total'].astype(int)\n",
    "    metriques['Population'] = metriques['Population'].astype(int)\n",
    "    metriques['Couverture_Vaccinale_Max'] = metriques['Couverture_Vaccinale_Max'].round(2).astype(float)\n",
    "    \n",
    "    return metriques\n",
    "\n",
    "# Метрики по странам\n",
    "metrics_pays = calcul_metriques(data_final)\n",
    "\n",
    "# Глобальные метрики (для всех стран)\n",
    "metrics_global = pd.DataFrame([{\n",
    "    'ID_Localisation': 'GLOBAL',\n",
    "    'Taux_Croissance_Moyen': data_final['new_cases'].pct_change().mean(),\n",
    "    'Couverture_Vaccinale_Max': (data_final['people_fully_vaccinated'].max() / data_final['population'].max() * 100),\n",
    "    'Cas_Total': int(data_final['new_cases'].sum()),\n",
    "    'Vaccinations_Total': int(data_final['new_vaccinations'].sum()),\n",
    "    'Dernier_Type_Mesure': data_final['Type_Mesure'].last_valid_index()\n",
    "}])\n",
    "\n",
    "# Объединение метрик\n",
    "metrics_complet = pd.concat([metrics_pays, metrics_global], ignore_index=True)\n"
   ]
  },
  {
   "cell_type": "markdown",
   "id": "159cc879-784a-47b8-88a1-e97fd45971db",
   "metadata": {},
   "source": [
    "# ---------------------------\n",
    "# КЛАСТЕРИЗАЦИЯ\n",
    "# ---------------------------"
   ]
  },
  {
   "cell_type": "code",
   "execution_count": 23,
   "id": "a058d4de-5187-4db9-a29f-68c33c46a25d",
   "metadata": {},
   "outputs": [],
   "source": [
    "# Присвоение кластера на основе Couverture_Vaccinale_Max\n",
    "def assign_cluster(couv):\n",
    "    if couv >= 70:\n",
    "        return 1\n",
    "    elif couv >= 30:  # От 30 до 69,9%\n",
    "        return 2\n",
    "    else:\n",
    "        return 3\n",
    "\n",
    "metrics_complet['Cluster'] = metrics_complet['Couverture_Vaccinale_Max'].apply(assign_cluster)\n"
   ]
  },
  {
   "cell_type": "code",
   "execution_count": 28,
   "id": "82de45d4-c672-4ef2-8638-8361318b3626",
   "metadata": {},
   "outputs": [
    {
     "name": "stdout",
     "output_type": "stream",
     "text": [
      "1\n"
     ]
    }
   ],
   "source": [
    "# Проверка на наличие NaN значений\n",
    "print(metrics_complet['Population'].isna().sum())\n",
    "\n",
    "# Обработка NaN значений\n",
    "metrics_complet['Population'].fillna(0, inplace=True)  # или используйте другой метод\n",
    "\n",
    "# Преобразование типов данных\n",
    "metrics_complet['Cas_Total'] = metrics_complet['Cas_Total'].astype(int)\n",
    "metrics_complet['Vaccinations_Total'] = metrics_complet['Vaccinations_Total'].astype(int)\n",
    "metrics_complet['Population'] = metrics_complet['Population'].astype(int)\n",
    "metrics_complet['Couverture_Vaccinale_Max'] = metrics_complet['Couverture_Vaccinale_Max'].round(2).astype(float)\n"
   ]
  },
  {
   "cell_type": "markdown",
   "id": "ae6641f9-19c3-4a15-96af-288361520935",
   "metadata": {},
   "source": [
    "# ---------------------------\n",
    "# ВИЗУАЛИЗАЦИЯ (для предварительного просмотра)\n",
    "# ---------------------------"
   ]
  },
  {
   "cell_type": "code",
   "execution_count": 30,
   "id": "20075ed4-3530-4b43-8d60-51312f7f7ffb",
   "metadata": {},
   "outputs": [],
   "source": [
    "# 1. Географическая карта (размер пузырьков пропорционален уровню вакцинации)\n",
    "df_map = metrics_complet[metrics_complet['ID_Localisation'] != 'GLOBAL']\n",
    "fig_map = px.scatter_geo(df_map,\n",
    "                    locations=\"ID_Localisation\",\n",
    "                    color=\"Couverture_Vaccinale_Max\",\n",
    "                    size=\"Couverture_Vaccinale_Max\",  # размер зависит от процента\n",
    "                    hover_name=\"ID_Localisation\",\n",
    "                    title=\"Максимальный уровень вакцинации по странам\")"
   ]
  },
  {
   "cell_type": "code",
   "execution_count": 32,
   "id": "e532275d-6353-4bdf-bcfa-3cd0461a337b",
   "metadata": {},
   "outputs": [],
   "source": [
    "# 2. График изменения во времени (случаи и вакцинации)\n",
    "evolution_globale = data_final.groupby('Date').agg({\n",
    "    'new_cases': 'sum',\n",
    "    'new_vaccinations': 'sum'\n",
    "}).reset_index()\n",
    "fig_evol = px.line(evolution_globale, x='Date', y=['new_cases', 'new_vaccinations'],\n",
    "              title=\"Глобальное изменение случаев и вакцинаций\")"
   ]
  },
  {
   "cell_type": "markdown",
   "id": "0e409470-8dee-4019-9d4f-38a295306ed5",
   "metadata": {},
   "source": [
    "# ---------------------------\n",
    "# МОДЕЛЬ SEIR ДЛЯ СТРАН (Ежедневное моделирование и месячная кумуляция)\n",
    "# ---------------------------"
   ]
  },
  {
   "cell_type": "code",
   "execution_count": 35,
   "id": "244c37eb-6961-4ca4-9750-43f8fbc9fd15",
   "metadata": {},
   "outputs": [],
   "source": [
    "def modele_seir(population, initial_infectes, jours=180, start_date=None):\n",
    "    \"\"\"Запускает модель SEIR для заданного населения и возвращает DataFrame с ежедневной симуляцией.\n",
    "       start_date должен быть объектом datetime для построения временной оси.\"\"\"\n",
    "    beta = 0.4   # Коэффициент передачи\n",
    "    sigma = 1/5  # Показатель инкубации\n",
    "    gamma = 1/14 # Коэффициент выздоровления\n",
    "    \n",
    "    def deriv(y, t):\n",
    "        S, E, I, R = y\n",
    "        dSdt = -beta * S * I / population\n",
    "        dEdt = beta * S * I / population - sigma * E\n",
    "        dIdt = sigma * E - gamma * I\n",
    "        dRdt = gamma * I\n",
    "        return dSdt, dEdt, dIdt, dRdt\n",
    "    \n",
    "    # Интервал времени в днях\n",
    "    t = np.linspace(0, jours-1, jours)\n",
    "    y0 = population - initial_infectes, 0, initial_infectes, 0\n",
    "    ret = odeint(deriv, y0, t)\n",
    "    df_sim = pd.DataFrame({\n",
    "        'Jour': t,\n",
    "        'Susceptibles': ret[:,0],\n",
    "        'Exposes': ret[:,1],\n",
    "        'Infectes': ret[:,2],\n",
    "        'Retablis': ret[:,3]\n",
    "    })\n",
    "    # Построение временной оси: начинаем с последней даты наблюдений для данной страны\n",
    "    if start_date is None:\n",
    "        start_date = datetime.today()\n",
    "    df_sim['Date'] = df_sim['Jour'].apply(lambda x: start_date + timedelta(days=int(x)))\n",
    "    return df_sim\n",
    "\n",
    "# Применение модели SEIR для каждой страны и агрегация по месяцам (кумуляция ежедневных значений)\n",
    "predictions_globales = []\n",
    "for iso_code in data_final['ID_Localisation'].unique():\n",
    "    pays_data = data_final[data_final['ID_Localisation'] == iso_code]\n",
    "    if not pays_data.empty:\n",
    "        pop = int(pays_data['population'].iloc[0])\n",
    "        # Используем последнее зарегистрированное значение новых случаев как начальное условие\n",
    "        dernier_cas = int(pays_data['new_cases'].iloc[-1])\n",
    "        # Определяем start_date как последняя дата наблюдений для данной страны\n",
    "        start_date = pays_data['Date'].iloc[-1]\n",
    "        # Ежедневное моделирование на 180 дней\n",
    "        predictions = modele_seir(pop, dernier_cas, jours=180, start_date=start_date)\n",
    "        predictions['ID_Localisation'] = iso_code\n",
    "        predictions['Nom_Pays'] = pays_data['location'].iloc[0]\n",
    "        # Агрегация по месяцам: суммирование ежедневных значений для каждого компонента\n",
    "        predictions['Mois'] = predictions['Date'].dt.to_period('M').dt.to_timestamp()\n",
    "        predictions_mensuelles = predictions.groupby(['ID_Localisation', 'Nom_Pays', 'Mois']).agg({\n",
    "            'Susceptibles': 'sum',\n",
    "            'Exposes': 'sum',\n",
    "            'Infectes': 'sum',\n",
    "            'Retablis': 'sum'\n",
    "        }).reset_index()\n",
    "        predictions_globales.append(predictions_mensuelles)\n",
    "\n",
    "if predictions_globales:\n",
    "    df_seir = pd.concat(predictions_globales, ignore_index=True)\n",
    "    # Округляем и преобразуем значения к целым числам, если это имеет смысл\n",
    "    df_seir['Susceptibles'] = df_seir['Susceptibles'].round().astype(int)\n",
    "    df_seir['Exposes'] = df_seir['Exposes'].round().astype(int)\n",
    "    df_seir['Infectes'] = df_seir['Infectes'].round().astype(int)\n",
    "    df_seir['Retablis'] = df_seir['Retablis'].round().astype(int)\n",
    "    df_seir.to_csv(\"powerbi_data/seir_predictions.csv\", index=False)\n",
    "else:\n",
    "    print(\"Не сгенерировано никаких прогнозов SEIR.\")\n"
   ]
  },
  {
   "cell_type": "markdown",
   "id": "36ea6919-37f8-4dad-badd-f7ff9bcbbbcb",
   "metadata": {},
   "source": [
    "# ---------------------------\n",
    "# ПРОГНОЗ ВРЕМЕННЫХ РЯДОВ С ARIMA (Годовой прогноз)\n",
    "# ---------------------------"
   ]
  },
  {
   "cell_type": "code",
   "execution_count": 51,
   "id": "5c1dff58-451d-4bc7-896b-0b579c104d1a",
   "metadata": {},
   "outputs": [
    {
     "name": "stdout",
     "output_type": "stream",
     "text": [
      "Insufficient data pour ESH, prévision non effectuée.\n"
     ]
    },
    {
     "name": "stderr",
     "output_type": "stream",
     "text": [
      "C:\\Users\\manas\\anaconda3\\Lib\\site-packages\\statsmodels\\base\\model.py:607: ConvergenceWarning:\n",
      "\n",
      "Maximum Likelihood optimization failed to converge. Check mle_retvals\n",
      "\n",
      "C:\\Users\\manas\\anaconda3\\Lib\\site-packages\\statsmodels\\base\\model.py:607: ConvergenceWarning:\n",
      "\n",
      "Maximum Likelihood optimization failed to converge. Check mle_retvals\n",
      "\n",
      "C:\\Users\\manas\\anaconda3\\Lib\\site-packages\\statsmodels\\base\\model.py:607: ConvergenceWarning:\n",
      "\n",
      "Maximum Likelihood optimization failed to converge. Check mle_retvals\n",
      "\n",
      "C:\\Users\\manas\\anaconda3\\Lib\\site-packages\\statsmodels\\base\\model.py:607: ConvergenceWarning:\n",
      "\n",
      "Maximum Likelihood optimization failed to converge. Check mle_retvals\n",
      "\n",
      "C:\\Users\\manas\\anaconda3\\Lib\\site-packages\\statsmodels\\base\\model.py:607: ConvergenceWarning:\n",
      "\n",
      "Maximum Likelihood optimization failed to converge. Check mle_retvals\n",
      "\n",
      "C:\\Users\\manas\\anaconda3\\Lib\\site-packages\\statsmodels\\base\\model.py:607: ConvergenceWarning:\n",
      "\n",
      "Maximum Likelihood optimization failed to converge. Check mle_retvals\n",
      "\n",
      "C:\\Users\\manas\\anaconda3\\Lib\\site-packages\\statsmodels\\base\\model.py:607: ConvergenceWarning:\n",
      "\n",
      "Maximum Likelihood optimization failed to converge. Check mle_retvals\n",
      "\n",
      "C:\\Users\\manas\\anaconda3\\Lib\\site-packages\\statsmodels\\base\\model.py:607: ConvergenceWarning:\n",
      "\n",
      "Maximum Likelihood optimization failed to converge. Check mle_retvals\n",
      "\n",
      "C:\\Users\\manas\\anaconda3\\Lib\\site-packages\\statsmodels\\base\\model.py:607: ConvergenceWarning:\n",
      "\n",
      "Maximum Likelihood optimization failed to converge. Check mle_retvals\n",
      "\n",
      "C:\\Users\\manas\\anaconda3\\Lib\\site-packages\\statsmodels\\base\\model.py:607: ConvergenceWarning:\n",
      "\n",
      "Maximum Likelihood optimization failed to converge. Check mle_retvals\n",
      "\n"
     ]
    }
   ],
   "source": [
    "arima_predictions = []\n",
    "for iso in data_final['ID_Localisation'].unique():\n",
    "    # Sélectionner et préparer les données pour le pays iso\n",
    "    cas_local = data_final[data_final['ID_Localisation'] == iso][['Date', 'new_cases']].copy()\n",
    "    cas_local.set_index('Date', inplace=True)\n",
    "    # Éliminer les doublons en regroupant par date\n",
    "    cas_local = cas_local.groupby(level=0).sum()\n",
    "    # Mettre la série à une fréquence journalière\n",
    "    cas_local = cas_local.asfreq('D').fillna(0)\n",
    "    \n",
    "    # Vérifier qu'il y a suffisamment d'observations (par exemple, au moins 10 jours de données)\n",
    "    if len(cas_local) < 10:\n",
    "        print(f\"Insufficient data pour {iso}, prévision non effectuée.\")\n",
    "        continue\n",
    "\n",
    "    try:\n",
    "        # Ajustement du modèle ARIMA sur la série journalière\n",
    "        model = ARIMA(cas_local['new_cases'], order=(1,1,1))\n",
    "        model_fit = model.fit()\n",
    "        steps = 30  # Prévoir 30 jours\n",
    "        forecast = model_fit.forecast(steps=steps)\n",
    "        # Construction de l'index des prévisions : à partir du jour suivant la dernière date observée\n",
    "        new_index = pd.date_range(start=cas_local.index.max() + pd.Timedelta(days=1),\n",
    "                                  periods=steps, freq='D')\n",
    "        forecast.index = new_index\n",
    "        \n",
    "        pred_df = forecast.reset_index()\n",
    "        pred_df.columns = ['Date', 'Predicted_New_Cases']\n",
    "        pred_df['ID_Localisation'] = iso\n",
    "        # Arrondir les valeurs prédites et convertir en entier\n",
    "        pred_df['Predicted_New_Cases'] = pred_df['Predicted_New_Cases'].round().astype(int)\n",
    "        arima_predictions.append(pred_df)\n",
    "    except Exception as e:\n",
    "        print(f\"Ошибка ARIMA для {iso}: {e}\")\n",
    "\n",
    "if arima_predictions:\n",
    "    df_arima = pd.concat(arima_predictions, ignore_index=True)\n",
    "    df_arima.to_csv(\"powerbi_data/arima_predictions.csv\", index=False)\n",
    "else:\n",
    "    print(\"Не сгенерировано никаких прогнозов ARIMA.\")\n"
   ]
  },
  {
   "cell_type": "markdown",
   "id": "dd39fa49-f135-41ae-933d-091f02895e03",
   "metadata": {},
   "source": [
    "# ---------------------------\n",
    "# ЭКСПОРТ ДЛЯ POWER BI\n",
    "# ---------------------------"
   ]
  },
  {
   "cell_type": "code",
   "execution_count": 53,
   "id": "e73bcc9f-1cd1-4f17-bd3b-cd39b71d8322",
   "metadata": {},
   "outputs": [
    {
     "name": "stdout",
     "output_type": "stream",
     "text": [
      "✅ Данные экспортированы в powerbi_data/\n"
     ]
    }
   ],
   "source": [
    "def exporter_pour_powerbi():\n",
    "    \"\"\"Экспортирует данные в формате CSV для Power BI с преобразованием\n",
    "       типов столбцов для оптимизации отображения.\"\"\"\n",
    "    os.makedirs(\"powerbi_data\", exist_ok=True)\n",
    "    \n",
    "    # Экспорт исходных временных данных\n",
    "    data_final_export = data_final.copy()\n",
    "    data_final_export['new_cases'] = data_final_export['new_cases'].astype(int)\n",
    "    data_final_export['new_vaccinations'] = data_final_export['new_vaccinations'].astype(int)\n",
    "    data_final_export.to_csv(\"powerbi_data/donnees_brutes.csv\", index=False)\n",
    "    \n",
    "    # Экспорт метрик\n",
    "    metrics_complet.to_csv(\"powerbi_data/metriques.csv\", index=False)\n",
    "    \n",
    "    # Экспорт кластеризации (например, отдельный файл)\n",
    "    metrics_complet[['ID_Localisation', 'Cas_Total', 'Vaccinations_Total', 'Population', \n",
    "                     'Couverture_Vaccinale_Max', 'Taux_Croissance_Moyen', 'Cluster']].to_csv(\"powerbi_data/clusters.csv\", index=False)\n",
    "    \n",
    "    print(\"✅ Данные экспортированы в powerbi_data/\")\n",
    "\n",
    "# Вызов функции экспорта\n",
    "exporter_pour_powerbi()\n",
    "\n",
    "# Конец скрипта"
   ]
  },
  {
   "cell_type": "code",
   "execution_count": null,
   "id": "ae16b29c-791a-4567-b9de-60ac9934d0ae",
   "metadata": {},
   "outputs": [],
   "source": []
  }
 ],
 "metadata": {
  "kernelspec": {
   "display_name": "Python [conda env:base] *",
   "language": "python",
   "name": "conda-base-py"
  },
  "language_info": {
   "codemirror_mode": {
    "name": "ipython",
    "version": 3
   },
   "file_extension": ".py",
   "mimetype": "text/x-python",
   "name": "python",
   "nbconvert_exporter": "python",
   "pygments_lexer": "ipython3",
   "version": "3.12.7"
  }
 },
 "nbformat": 4,
 "nbformat_minor": 5
}
