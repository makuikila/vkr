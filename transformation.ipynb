{
 "cells": [
  {
   "cell_type": "code",
   "execution_count": 1,
   "id": "a96d90fc-3e4e-403f-ada3-d698b2611f10",
   "metadata": {},
   "outputs": [],
   "source": [
    "import pandas as pd\n",
    "\n",
    "# 1. Charger le fichier\n",
    "df = pd.read_csv(\"donnees_brutes.csv\")\n",
    "\n",
    "# 2. Convertir la date en format datetime\n",
    "df[\"Date\"] = pd.to_datetime(df[\"Date\"], errors='coerce')\n",
    "\n",
    "# 3. Colonnes à convertir en entier\n",
    "colonnes_entiers = [\"population\", \"new_cases\", \"new_vaccinations\", \"people_fully_vaccinated\"]\n",
    "\n",
    "# 4. Forcer la conversion en entier (en traitant les valeurs manquantes)\n",
    "for col in colonnes_entiers:\n",
    "    df[col] = pd.to_numeric(df[col], errors='coerce').fillna(0).astype(int)\n",
    "\n",
    "# 5. Sauvegarder un fichier nettoyé\n",
    "df.to_csv(\"data_cleaned.csv\", index=False)\n"
   ]
  },
  {
   "cell_type": "code",
   "execution_count": 7,
   "id": "6979b153-29cb-4e0f-ba74-6e2a3cd62c3c",
   "metadata": {},
   "outputs": [],
   "source": [
    "import pandas as pd\n",
    "\n",
    "# Fichier 1 : clusters.csv\n",
    "df_clusters = pd.read_csv(\"clusters.csv\")\n",
    "\n",
    "colonnes_clusters_int = [\"Cas_Total\", \"Vaccinations_Total\", \"Population\", \"Couverture_Vaccinale_Max\"]\n",
    "df_clusters[colonnes_clusters_int] = df_clusters[colonnes_clusters_int].apply(pd.to_numeric, errors='coerce').fillna(0).astype(int)\n",
    "\n",
    "\n",
    "\n",
    "df_clusters.to_csv(\"data_cleaned_clusters.csv\", index=False)"
   ]
  },
  {
   "cell_type": "code",
   "execution_count": 5,
   "id": "46f40656-79f1-4e5c-b2d8-b664c08531fb",
   "metadata": {},
   "outputs": [],
   "source": [
    "\n",
    "\n",
    "\n",
    "# Fichier 2 : metriques.csv\n",
    "df_metriques = pd.read_csv(\"metriques.csv\")\n",
    "\n",
    "colonnes_metriques_int = [\"Cas_Total\", \"Vaccinations_Total\", \"Population\", \"Vaccinated\", \"Couverture_Vaccinale_Max\"]\n",
    "df_metriques[colonnes_metriques_int] = df_metriques[colonnes_metriques_int].apply(pd.to_numeric, errors='coerce').fillna(0).astype(int)\n",
    "\n",
    "\n",
    "df_metriques.to_csv(\"data_cleaned_metriques.csv\", index=False)\n",
    "\n",
    "\n"
   ]
  },
  {
   "cell_type": "code",
   "execution_count": null,
   "id": "c9b986c3-7102-417e-9632-404c66594bce",
   "metadata": {},
   "outputs": [],
   "source": [
    "# Fichier 3 : seir_predictions.csv\n",
    "df_seir = pd.read_csv(\"seir_predictions.csv\")\n",
    "\n",
    "colonnes_seir = [\"Susceptibles\", \"Exposes\", \"Infectes\", \"Retablis\"]\n",
    "df_seir[colonnes_seir] = df_seir[colonnes_seir].apply(pd.to_numeric, errors='coerce').fillna(0).astype(int)\n",
    "\n",
    "df_seir.to_csv(\"data_cleaned_seir_predictions.csv\", index=False)\n",
    "\n",
    "\n",
    "# Fichier 4 : arima_predictions.csv\n",
    "df_arima = pd.read_csv(\"arima_predictions.csv\")\n",
    "\n",
    "# Suppression de l’éventuelle colonne vide sans nom\n",
    "if df_arima.columns[0] == \"\":\n",
    "    df_arima = df_arima.drop(columns=[\"\"])\n",
    "\n",
    "df_arima[\"Predicted_New_Cases\"] = pd.to_numeric(df_arima[\"Predicted_New_Cases\"], errors='coerce').fillna(0).astype(int)\n",
    "\n",
    "df_arima.to_csv(\"data_cleaned_arima_predictions.csv\", index=False)\n"
   ]
  }
 ],
 "metadata": {
  "kernelspec": {
   "display_name": "Python [conda env:base] *",
   "language": "python",
   "name": "conda-base-py"
  },
  "language_info": {
   "codemirror_mode": {
    "name": "ipython",
    "version": 3
   },
   "file_extension": ".py",
   "mimetype": "text/x-python",
   "name": "python",
   "nbconvert_exporter": "python",
   "pygments_lexer": "ipython3",
   "version": "3.12.7"
  }
 },
 "nbformat": 4,
 "nbformat_minor": 5
}
